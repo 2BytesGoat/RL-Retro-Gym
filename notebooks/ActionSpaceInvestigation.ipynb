{
 "cells": [
  {
   "cell_type": "code",
   "execution_count": 1,
   "id": "extra-civilization",
   "metadata": {},
   "outputs": [],
   "source": [
    "import numpy as np\n",
    "import pandas as pd \n",
    "import matplotlib.pyplot as plt\n",
    "from pathlib import Path"
   ]
  },
  {
   "cell_type": "code",
   "execution_count": 2,
   "id": "european-arrest",
   "metadata": {},
   "outputs": [],
   "source": [
    "recording_path = Path('../gameplay_rec/')"
   ]
  },
  {
   "cell_type": "code",
   "execution_count": 3,
   "id": "floppy-caribbean",
   "metadata": {},
   "outputs": [],
   "source": [
    "merged_df = []\n",
    "for rec_csv_path in recording_path.glob('**/*.csv'):\n",
    "    df = pd.read_csv(rec_csv_path)\n",
    "    merged_df.append(df)\n",
    "merged_df = pd.concat(merged_df)"
   ]
  },
  {
   "cell_type": "code",
   "execution_count": 4,
   "id": "plain-villa",
   "metadata": {},
   "outputs": [
    {
     "data": {
      "text/html": [
       "<div>\n",
       "<style scoped>\n",
       "    .dataframe tbody tr th:only-of-type {\n",
       "        vertical-align: middle;\n",
       "    }\n",
       "\n",
       "    .dataframe tbody tr th {\n",
       "        vertical-align: top;\n",
       "    }\n",
       "\n",
       "    .dataframe thead th {\n",
       "        text-align: right;\n",
       "    }\n",
       "</style>\n",
       "<table border=\"1\" class=\"dataframe\">\n",
       "  <thead>\n",
       "    <tr style=\"text-align: right;\">\n",
       "      <th></th>\n",
       "      <th>Unnamed: 0</th>\n",
       "      <th>cart_lap_nb</th>\n",
       "      <th>cart_has_item</th>\n",
       "      <th>cart_place</th>\n",
       "      <th>map_time</th>\n",
       "      <th>cart_last_item</th>\n",
       "      <th>cart_is_coliding</th>\n",
       "      <th>cart_coins</th>\n",
       "      <th>cart_position_x</th>\n",
       "      <th>cart_status</th>\n",
       "      <th>map_surface</th>\n",
       "      <th>cart_speed</th>\n",
       "      <th>action</th>\n",
       "    </tr>\n",
       "  </thead>\n",
       "  <tbody>\n",
       "    <tr>\n",
       "      <th>0</th>\n",
       "      <td>0.0</td>\n",
       "      <td>127</td>\n",
       "      <td>0</td>\n",
       "      <td>14</td>\n",
       "      <td>0</td>\n",
       "      <td>0</td>\n",
       "      <td>0</td>\n",
       "      <td>5</td>\n",
       "      <td>27</td>\n",
       "      <td>0</td>\n",
       "      <td>64</td>\n",
       "      <td>0</td>\n",
       "      <td>[0, 0, 0, 0, 0, 0, 0, 0, 0, 0, 0, 0]</td>\n",
       "    </tr>\n",
       "    <tr>\n",
       "      <th>1</th>\n",
       "      <td>1.0</td>\n",
       "      <td>127</td>\n",
       "      <td>0</td>\n",
       "      <td>14</td>\n",
       "      <td>0</td>\n",
       "      <td>0</td>\n",
       "      <td>0</td>\n",
       "      <td>5</td>\n",
       "      <td>27</td>\n",
       "      <td>0</td>\n",
       "      <td>64</td>\n",
       "      <td>0</td>\n",
       "      <td>[0, 0, 0, 0, 0, 0, 0, 0, 0, 0, 0, 0]</td>\n",
       "    </tr>\n",
       "    <tr>\n",
       "      <th>2</th>\n",
       "      <td>2.0</td>\n",
       "      <td>127</td>\n",
       "      <td>0</td>\n",
       "      <td>14</td>\n",
       "      <td>0</td>\n",
       "      <td>0</td>\n",
       "      <td>0</td>\n",
       "      <td>5</td>\n",
       "      <td>27</td>\n",
       "      <td>0</td>\n",
       "      <td>64</td>\n",
       "      <td>0</td>\n",
       "      <td>[0, 0, 0, 0, 0, 0, 0, 0, 0, 0, 0, 0]</td>\n",
       "    </tr>\n",
       "    <tr>\n",
       "      <th>3</th>\n",
       "      <td>3.0</td>\n",
       "      <td>127</td>\n",
       "      <td>0</td>\n",
       "      <td>14</td>\n",
       "      <td>0</td>\n",
       "      <td>0</td>\n",
       "      <td>0</td>\n",
       "      <td>5</td>\n",
       "      <td>27</td>\n",
       "      <td>0</td>\n",
       "      <td>64</td>\n",
       "      <td>0</td>\n",
       "      <td>[0, 0, 0, 0, 0, 0, 0, 0, 0, 0, 0, 0]</td>\n",
       "    </tr>\n",
       "    <tr>\n",
       "      <th>4</th>\n",
       "      <td>4.0</td>\n",
       "      <td>127</td>\n",
       "      <td>0</td>\n",
       "      <td>14</td>\n",
       "      <td>0</td>\n",
       "      <td>0</td>\n",
       "      <td>0</td>\n",
       "      <td>5</td>\n",
       "      <td>27</td>\n",
       "      <td>0</td>\n",
       "      <td>64</td>\n",
       "      <td>0</td>\n",
       "      <td>[0, 0, 0, 0, 0, 0, 0, 0, 0, 0, 0, 0]</td>\n",
       "    </tr>\n",
       "  </tbody>\n",
       "</table>\n",
       "</div>"
      ],
      "text/plain": [
       "   Unnamed: 0  cart_lap_nb  cart_has_item  cart_place  map_time  \\\n",
       "0         0.0          127              0          14         0   \n",
       "1         1.0          127              0          14         0   \n",
       "2         2.0          127              0          14         0   \n",
       "3         3.0          127              0          14         0   \n",
       "4         4.0          127              0          14         0   \n",
       "\n",
       "   cart_last_item  cart_is_coliding  cart_coins  cart_position_x  cart_status  \\\n",
       "0               0                 0           5               27            0   \n",
       "1               0                 0           5               27            0   \n",
       "2               0                 0           5               27            0   \n",
       "3               0                 0           5               27            0   \n",
       "4               0                 0           5               27            0   \n",
       "\n",
       "   map_surface  cart_speed                                action  \n",
       "0           64           0  [0, 0, 0, 0, 0, 0, 0, 0, 0, 0, 0, 0]  \n",
       "1           64           0  [0, 0, 0, 0, 0, 0, 0, 0, 0, 0, 0, 0]  \n",
       "2           64           0  [0, 0, 0, 0, 0, 0, 0, 0, 0, 0, 0, 0]  \n",
       "3           64           0  [0, 0, 0, 0, 0, 0, 0, 0, 0, 0, 0, 0]  \n",
       "4           64           0  [0, 0, 0, 0, 0, 0, 0, 0, 0, 0, 0, 0]  "
      ]
     },
     "execution_count": 4,
     "metadata": {},
     "output_type": "execute_result"
    }
   ],
   "source": [
    "merged_df.head()"
   ]
  },
  {
   "cell_type": "code",
   "execution_count": 5,
   "id": "working-liquid",
   "metadata": {},
   "outputs": [],
   "source": [
    "# you can get the key_mapping by printing self.key_mapping in mario_kart_manual.py \n",
    "key_mapping = {0: 'x', 1: 's', 4: 'Key.up', 5: 'Key.down', 6: 'Key.left', 7: 'Key.right', 8: 'z', 9: 'a'}\n",
    "\n",
    "def action_to_string(action):\n",
    "    action = eval(action)\n",
    "    pressed_keys = [key_mapping[idx] for idx, value in enumerate(action) if value == 1]\n",
    "    return '+'.join(pressed_keys)\n",
    "\n",
    "action_to_idx = {action: idx for idx, action in enumerate(pd.unique(merged_df['action']))}\n",
    "action_to_key = {action: action_to_string(action) for action in pd.unique(merged_df['action'])}\n",
    "idx_to_key = {idx: action_to_key[action] for idx, action in enumerate(pd.unique(merged_df['action']))}"
   ]
  },
  {
   "cell_type": "code",
   "execution_count": 6,
   "id": "prescription-dublin",
   "metadata": {},
   "outputs": [
    {
     "data": {
      "image/png": "[encoded data removed]",
      "text/plain": [
       "<Figure size 720x360 with 1 Axes>"
      ]
     },
     "metadata": {
      "needs_background": "light"
     },
     "output_type": "display_data"
    }
   ],
   "source": [
    "def autolabel(rects):\n",
    "    \"\"\"Attach a text label above each bar in *rects*, displaying its height.\"\"\"\n",
    "    for rect in rects:\n",
    "        height = rect.get_height()\n",
    "        ax.annotate('{}'.format(height),\n",
    "                    xy=(rect.get_x() + rect.get_width() / 2, height),\n",
    "                    xytext=(0, 3),  # 3 points vertical offset\n",
    "                    textcoords=\"offset points\",\n",
    "                    ha='center', va='bottom')\n",
    "\n",
    "dist = 0.25\n",
    "legend_info = []\n",
    "fig, ax = plt.subplots(1, figsize=(10,5))\n",
    "for idx, [action, cnt] in enumerate(merged_df['action'].value_counts().iteritems()):\n",
    "    rects = ax.bar(0 + idx * dist, cnt, width = dist)\n",
    "    autolabel(rects)\n",
    "    legend_info.append(action_to_key[action])\n",
    "plt.legend(legend_info)\n",
    "plt.show()"
   ]
  },
  {
   "cell_type": "code",
   "execution_count": 7,
   "id": "peripheral-isolation",
   "metadata": {},
   "outputs": [
    {
     "name": "stdout",
     "output_type": "stream",
     "text": [
      "0: [1, 0, 0, 0, 0, 0, 0, 0, 0, 0, 0, 0], # x\n",
      "1: [1, 0, 0, 0, 0, 0, 1, 0, 0, 0, 0, 0], # x+Key.left\n",
      "2: [1, 0, 0, 0, 1, 0, 0, 0, 0, 0, 0, 0], # x+Key.up\n",
      "3: [1, 0, 0, 0, 0, 0, 0, 1, 0, 0, 0, 0], # x+Key.right\n",
      "4: [1, 0, 0, 0, 1, 0, 1, 0, 0, 0, 0, 0], # x+Key.up+Key.left\n",
      "5: [0, 0, 0, 0, 0, 0, 1, 0, 0, 0, 0, 0], # Key.left\n",
      "6: [0, 0, 0, 0, 0, 0, 0, 1, 0, 0, 0, 0], # Key.right\n",
      "7: [0, 0, 0, 0, 0, 0, 0, 0, 0, 0, 0, 0], # \n"
     ]
    }
   ],
   "source": [
    "for idx, [action, cnt] in enumerate(merged_df['action'].value_counts().iteritems()):\n",
    "    if cnt < 2948:\n",
    "        break\n",
    "    print(f\"{idx}: {action}, # {action_to_key[action]}\")"
   ]
  },
  {
   "cell_type": "code",
   "execution_count": null,
   "id": "creative-tribe",
   "metadata": {},
   "outputs": [],
   "source": []
  }
 ],
 "metadata": {
  "kernelspec": {
   "display_name": "Python 3",
   "language": "python",
   "name": "python3"
  },
  "language_info": {
   "codemirror_mode": {
    "name": "ipython",
    "version": 3
   },
   "file_extension": ".py",
   "mimetype": "text/x-python",
   "name": "python",
   "nbconvert_exporter": "python",
   "pygments_lexer": "ipython3",
   "version": "3.7.10"
  }
 },
 "nbformat": 4,
 "nbformat_minor": 5
}
